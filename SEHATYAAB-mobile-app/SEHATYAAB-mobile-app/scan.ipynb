{
 "cells": [
  {
   "cell_type": "markdown",
   "metadata": {
    "collapsed": false
   },
   "source": [
    "# <span style='font-family:Serif'><span style='color:#00bcd4'>**Medicine Detection Code**</span></span><span style='font-family:Serif'><span style='color:#00bcd4'> </span></span>\n",
    "\n"
   ]
  },
  {
   "cell_type": "markdown",
   "metadata": {
    "collapsed": false
   },
   "source": [
    "### <span style='font-family:Serif'>**Inserting Medicine Dataset**</span>\n",
    "\n"
   ]
  },
  {
   "cell_type": "code",
   "execution_count": 28,
   "metadata": {
    "collapsed": false
   },
   "outputs": [
    {
     "name": "stdout",
     "output_type": "stream",
     "text": [
      "0     BATCH NO: PTX184\\nMFG DATE: JUL 2022\\nEXP DATE...\n",
      "1     MFG(11) DEC 2022\\nEXP(17) NOV 2025 \\nB.NO(10) ...\n",
      "2                          B.965D15\\nMFG03 22\\nEXP03 24\n",
      "3     GTIN: 08964001392118\\nB.NO. B0031\\nMFG 02/2022...\n",
      "4     B.NO: WL22H454\\nMFG: AUG 2022\\nEXP: JUL 2023\\n...\n",
      "5     GTIN: 05415062320532\\nSN NO.0003134\\nB.NO.FL98...\n",
      "6     GTIN: 08964001282020\\nBATCH NO: P08214\\nM: 17/...\n",
      "7     BATCH NO: MP08434\\nMFG DATE 09.21 \\nEXP DATE 0...\n",
      "8            B.294M04\\nMRP.271.37\\nMFG.09.21\\nEXP.09.23\n",
      "9     GTIN 05415062320655\\nB.NO GJ1300\\nMFG 08/2022\\...\n",
      "10    GTIN: 08964001397540\\nMFG:09 2022\\nEXP: 08 202...\n",
      "11        B.NO352\\nMFG.11/2021\\nEXP.11/2024\\nMRP.RS.399\n",
      "12    GTIN(01): 08964001672012\\nB.NO(10): 3078\\nMFG:...\n",
      "13    MFG MAY 2022\\nEXP(17) APR 2023\\nBATCH(10)40267...\n",
      "14    GTIN 08964001578017\\nB.5S5W\\nM.07.19\\nE.07.22\\...\n",
      "15    BATCH NO:1167\\nMFG DATE: 03/2022\\nEXP DATE: 03...\n",
      "16    B.NO.C4024\\nMFG.10-2020\\nEXP.10-2022\\nMRP RS.3...\n",
      "17         B#15569\\nMFG 01/21\\nEXP 01/24\\nMRP RS 115.71\n",
      "18     B.NO:A0003\\nMFG: 07-19\\nEXP: 07-22\\nMRP RS:40.00\n",
      "19    B.NO:ALD065\\nMFG:08-22\\nEXP: 08-24\\nMRP RS: 34...\n",
      "20                                               105F93\n",
      "21                                                2J150\n",
      "22                                                D1087\n",
      "23    BATCH NO:92\\nMFG DATE: 05-22\\nEXP DATE: 05-24\\...\n",
      "24    BATCH NO:249\\nMFG DATE: 09/2021\\nEXP DATE: 09/...\n",
      "25                                               Y-1342\n",
      "26                                              SFL0841\n",
      "27                                                HIAAC\n",
      "28                                                 7D2J\n",
      "29    B.NO: HTC1041G21\\nMFG:07-2021\\nEXP: 07-2023\\nM...\n",
      "30    MRP.RS: 260.00\\nBATCH NO:20518\\nMFG DATE: SEP ...\n",
      "31    MRP RS: 17.87\\nBATCH  NO: FM0450\\nMFG DATE: 11...\n",
      "32     B.NO.100K0\\nMFG 11-20\\nEXP 11-23\\nMRP RS. 127.04\n",
      "33    B.NO: S334\\nMFG: 01/2021\\nEXP: 06/2022\\nMRP: 1...\n",
      "34    BATCH NO: MP07655\\nMFG DATE: 12.20\\nEXP DATE: ...\n",
      "35    GTIN(01): 08964001670100\\nBATCH(10):T9420\\nMFG...\n",
      "36    BATCH NO: AAA09\\nMFG: JULY 2022\\nEXP: JULY 202...\n",
      "37    BATCH NO: DYS-05\\nMFG DATE: 05-2019\\nEXP DATE:...\n",
      "38    GTIN: 08961100971121\\nBATCH: 144422\\nB.NO: 144...\n",
      "39    GTIN: 08961100971114\\nS.NO: 2OVF9MLC24\\nBATCH:...\n",
      "40    GTIN: 08964001549710\\nBATCH: DP9G\\nMFG: 08-202...\n",
      "41    BATCH: 4547\\nMFG DATE:11/21\\nEXP DATE: 10/23\\n...\n",
      "42    GTIN: 08964001900894\\nMFG: 09/2022\\nEXP: 09/20...\n",
      "43    MRP RS: 145.31\\nBATCH: 202429\\nMFG DATE: 09-20...\n",
      "44    DRAP NO: 0082860738\\nBATCH: L0067/21\\nMFG DATE...\n",
      "45    MFG (11): MAR2021 \\nEXP (17): MAR 2024 \\nBATCH...\n",
      "46    GTIN: 08964001392095\\nBATCH: BC0003\\nMFG:01/22...\n",
      "47    GTIN: 08964002023820\\nBATCH: 216\\nMFG: 09-22\\n...\n",
      "48    GTIN: 088961100970094\\nS.NO: 29VINZEOP8\\nB.NO:...\n",
      "49    BATCH NO:D3198\\nMFG: 09-22\\nEXP: 08-24\\nMRP RS...\n",
      "50    BATCH:X37S\\nMFG: MAR 22\\nEXP: FEB 24\\nMRP RS: ...\n",
      "51    GTIN: 08961101540852\\nBATCH: B5624\\nMFG DATE: ...\n",
      "52    GTIN: 05415062320532\\nSNO: 0024558\\nBATCH: FX1...\n",
      "53    MFG: 06-22\\nEXP: 05-25\\nBATCH: D2188\\nMRP RS: ...\n",
      "54    MFG(11): JAN 21\\nEXP(17): JAN 23\\nBATCH(10):25...\n",
      "55    MFG(11): MAY 22\\nEXP(17): APR 22\\nBATCH(10): 4...\n",
      "56    BATCH: D1076\\nMFG: 03-22\\nEXP: 02-25\\nMRP RS: ...\n",
      "57    BATCH: M67BC\\nMFG: 03-2022 \\nEXP: 03-2024\\nMRP...\n",
      "58    GTIN: 08964001712824\\nB.NO:S04739\\nMFG: 01-202...\n",
      "59    BATCH NO: 3A699\\nMFG DATE: 06-22\\nEXP DATE: 05...\n",
      "Name: Batch No, dtype: object\n"
     ]
    }
   ],
   "source": [
    "# Read specific columns from Excel file\n",
    "df = pd.read_excel(\"Data.xlsx\")\n",
    "\n",
    "# Get the column name to print\n",
    "column_name = 'Batch No'\n",
    "\n",
    "# Print the column data\n",
    "print(df[column_name])"
   ]
  },
  {
   "cell_type": "markdown",
   "metadata": {
    "collapsed": false
   },
   "source": [
    "### <span style='font-family:Serif'>**Matching medicine data in excel sheet**</span>\n",
    "\n"
   ]
  },
  {
   "cell_type": "code",
   "execution_count": 37,
   "metadata": {
    "cocalc": {
     "outputs": {
      "0": {
       "name": "input",
       "opts": {
        "password": false,
        "prompt": "Enter the value to search for: "
       },
       "output_type": "stream",
       "value": "GTIN: 08964001712824"
      }
     }
    },
    "collapsed": false
   },
   "outputs": [
    {
     "name": "stdout",
     "output_type": "stream",
     "text": "Enter the value to search for:  GTIN: 08964001712824"
    },
    {
     "name": "stdout",
     "output_type": "stream",
     "text": [
      "This medicine is real / authentic / original.\n"
     ]
    }
   ],
   "source": [
    "import pandas as pd\n",
    "\n",
    "# Take input from user to search for\n",
    "search_value = input('Enter the value to search for: ')\n",
    "\n",
    "# Load the Excel file into a Pandas dataframe\n",
    "df = pd.read_excel('Data.xlsx')\n",
    "\n",
    "# Search for any occurrence of the search value in the column 'Batch No'\n",
    "column_name = 'Batch No'\n",
    "if df[column_name].str.contains(search_value).any():\n",
    "    print('This medicine is real / authentic / original.')\n",
    "else:\n",
    "    print('This medicine is fake or may not registered in our database.')"
   ]
  },
  {
   "cell_type": "code",
   "execution_count": 0,
   "metadata": {
    "collapsed": false
   },
   "outputs": [
   ],
   "source": [
   ]
  },
  {
   "cell_type": "code",
   "execution_count": 0,
   "metadata": {
    "collapsed": false
   },
   "outputs": [
   ],
   "source": [
   ]
  }
 ],
 "metadata": {
  "kernelspec": {
   "display_name": "Python 3 (system-wide)",
   "language": "python",
   "metadata": {
    "cocalc": {
     "description": "Python 3 programming language",
     "priority": 100,
     "url": "https://www.python.org/"
    }
   },
   "name": "python3",
   "resource_dir": "/ext/jupyter/kernels/python3"
  },
  "language_info": {
   "codemirror_mode": {
    "name": "ipython",
    "version": 3
   },
   "file_extension": ".py",
   "mimetype": "text/x-python",
   "name": "python",
   "nbconvert_exporter": "python",
   "pygments_lexer": "ipython3",
   "version": "3.8.10"
  }
 },
 "nbformat": 4,
 "nbformat_minor": 4
}